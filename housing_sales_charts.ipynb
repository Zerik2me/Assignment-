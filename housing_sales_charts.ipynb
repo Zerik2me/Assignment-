{
 "cells": [
  {
   "cell_type": "code",
   "execution_count": null,
   "id": "fb30e82c",
   "metadata": {},
   "outputs": [],
   "source": [
    "\n",
    "import pandas as pd\n",
    "import matplotlib.pyplot as plt\n",
    "\n",
    "# Load data\n",
    "df = pd.read_csv(\"housing_sales_data.csv\")\n",
    "df.head()\n"
   ]
  },
  {
   "cell_type": "code",
   "execution_count": null,
   "id": "14099e4a",
   "metadata": {},
   "outputs": [],
   "source": [
    "\n",
    "plt.figure(figsize=(8,6))\n",
    "plt.hist(df['Sale_Price'], bins=30)\n",
    "plt.xlabel(\"Sale Price\")\n",
    "plt.ylabel(\"Frequency\")\n",
    "plt.title(\"Distribution of Sale Prices\")\n",
    "plt.show()\n"
   ]
  },
  {
   "cell_type": "code",
   "execution_count": null,
   "id": "6fff0f43",
   "metadata": {},
   "outputs": [],
   "source": [
    "\n",
    "plt.figure(figsize=(8,6))\n",
    "df['Bedrooms'].value_counts().sort_index().plot(kind='bar')\n",
    "plt.xlabel(\"Bedrooms\")\n",
    "plt.ylabel(\"Count\")\n",
    "plt.title(\"Number of Houses by Bedrooms\")\n",
    "plt.show()\n"
   ]
  },
  {
   "cell_type": "code",
   "execution_count": null,
   "id": "cfb2159c",
   "metadata": {},
   "outputs": [],
   "source": [
    "\n",
    "plt.figure(figsize=(8,6))\n",
    "df['Bathrooms'].value_counts().sort_index().plot(kind='bar', color='orange')\n",
    "plt.xlabel(\"Bathrooms\")\n",
    "plt.ylabel(\"Count\")\n",
    "plt.title(\"Number of Houses by Bathrooms\")\n",
    "plt.show()\n"
   ]
  },
  {
   "cell_type": "code",
   "execution_count": null,
   "id": "a711a15e",
   "metadata": {},
   "outputs": [],
   "source": [
    "\n",
    "plt.figure(figsize=(8,6))\n",
    "plt.scatter(df['Square_Feet'], df['Sale_Price'], alpha=0.5)\n",
    "plt.xlabel(\"Square Feet\")\n",
    "plt.ylabel(\"Sale Price\")\n",
    "plt.title(\"Sale Price vs Square Feet\")\n",
    "plt.show()\n"
   ]
  },
  {
   "cell_type": "code",
   "execution_count": null,
   "id": "d163780e",
   "metadata": {},
   "outputs": [],
   "source": [
    "\n",
    "avg_price_by_bedrooms = df.groupby('Bedrooms')['Sale_Price'].mean()\n",
    "avg_price_by_bedrooms.plot(kind='bar', figsize=(8,6), color='green')\n",
    "plt.xlabel(\"Bedrooms\")\n",
    "plt.ylabel(\"Average Sale Price\")\n",
    "plt.title(\"Average Sale Price by Bedrooms\")\n",
    "plt.show()\n"
   ]
  },
  {
   "cell_type": "code",
   "execution_count": null,
   "id": "e0a46da8",
   "metadata": {},
   "outputs": [],
   "source": [
    "\n",
    "plt.figure(figsize=(8,6))\n",
    "plt.hist(df['Lot_Size_acres'], bins=20, color='purple')\n",
    "plt.xlabel(\"Lot Size (Acres)\")\n",
    "plt.ylabel(\"Frequency\")\n",
    "plt.title(\"Distribution of Lot Sizes\")\n",
    "plt.show()\n"
   ]
  },
  {
   "cell_type": "code",
   "execution_count": null,
   "id": "3115c8c9",
   "metadata": {},
   "outputs": [],
   "source": [
    "\n",
    "plt.figure(figsize=(8,6))\n",
    "plt.hist(df['Year_Built'], bins=30, color='red')\n",
    "plt.xlabel(\"Year Built\")\n",
    "plt.ylabel(\"Count\")\n",
    "plt.title(\"Distribution of Year Built\")\n",
    "plt.show()\n"
   ]
  },
  {
   "cell_type": "code",
   "execution_count": null,
   "id": "656a847c",
   "metadata": {},
   "outputs": [],
   "source": [
    "\n",
    "top_cities = df['City'].value_counts().head(10).index\n",
    "avg_price_by_city = df[df['City'].isin(top_cities)].groupby('City')['Sale_Price'].mean()\n",
    "avg_price_by_city.sort_values().plot(kind='barh', figsize=(8,6), color='cyan')\n",
    "plt.xlabel(\"Average Sale Price\")\n",
    "plt.ylabel(\"City\")\n",
    "plt.title(\"Average Sale Price in Top 10 Cities\")\n",
    "plt.show()\n"
   ]
  },
  {
   "cell_type": "code",
   "execution_count": null,
   "id": "3c768b09",
   "metadata": {},
   "outputs": [],
   "source": [
    "\n",
    "plt.figure(figsize=(8,6))\n",
    "plt.scatter(df['Listing_Price'], df['Sale_Price'], alpha=0.5, color='brown')\n",
    "plt.xlabel(\"Listing Price\")\n",
    "plt.ylabel(\"Sale Price\")\n",
    "plt.title(\"Sale Price vs Listing Price\")\n",
    "plt.show()\n"
   ]
  }
 ],
 "metadata": {},
 "nbformat": 4,
 "nbformat_minor": 5
}
